{
  "cells": [
    {
      "cell_type": "markdown",
      "metadata": {
        "id": "view-in-github",
        "colab_type": "text"
      },
      "source": [
        "<a href=\"https://colab.research.google.com/github/ut3q/Projects/blob/main/AstraAiImageGeneration.ipynb\" target=\"_parent\"><img src=\"https://colab.research.google.com/assets/colab-badge.svg\" alt=\"Open In Colab\"/></a>"
      ]
    },
    {
      "cell_type": "code",
      "execution_count": null,
      "metadata": {
        "colab": {
          "background_save": true,
          "base_uri": "https://localhost:8080/"
        },
        "id": "TvfXOA0vhy6g",
        "outputId": "b5b0c398-d8a3-4b2f-e83e-645f0ce42213"
      },
      "outputs": [
        {
          "metadata": {
            "tags": null
          },
          "name": "stdout",
          "output_type": "stream",
          "text": [
            "Mounted at /content/drive/\n",
            "Cloning into 'stable-diffusion-webui'...\n",
            "remote: Enumerating objects: 16079, done.\u001b[K\n",
            "remote: Total 16079 (delta 0), reused 0 (delta 0), pack-reused 16079\u001b[K\n",
            "Receiving objects: 100% (16079/16079), 27.20 MiB | 7.33 MiB/s, done.\n",
            "Resolving deltas: 100% (11292/11292), done.\n",
            "Cloning into '/content/stable-diffusion-webui/extensions/stable-diffusion-webui-images-browser'...\n",
            "remote: Enumerating objects: 143, done.\u001b[K\n",
            "remote: Counting objects: 100% (34/34), done.\u001b[K\n",
            "remote: Compressing objects: 100% (12/12), done.\u001b[K\n",
            "Receiving objects: 100% (143/143), 37.92 KiB | 12.64 MiB/s, done.\n",
            "remote: Total 143 (delta 25), reused 22 (delta 22), pack-reused 109\u001b[K\n",
            "Resolving deltas: 100% (51/51), done.\n",
            "  % Total    % Received % Xferd  Average Speed   Time    Time     Time  Current\n",
            "                                 Dload  Upload   Total   Spent    Left  Speed\n",
            "100  1147  100  1147    0     0   1204      0 --:--:-- --:--:-- --:--:--  1203\n",
            "100 4067M  100 4067M    0     0   177M      0  0:00:22  0:00:22 --:--:-- 64.9M\n",
            "  % Total    % Received % Xferd  Average Speed   Time    Time     Time  Current\n",
            "                                 Dload  Upload   Total   Spent    Left  Speed\n",
            "100  1141  100  1141    0     0   1213      0 --:--:-- --:--:-- --:--:--  1212\n",
            "100  784M  100  784M    0     0   204M      0  0:00:03  0:00:03 --:--:--  251M\n",
            "/content/stable-diffusion-webui\n",
            "Note: switching to '91c8d0d'.\n",
            "\n",
            "You are in 'detached HEAD' state. You can look around, make experimental\n",
            "changes and commit them, and you can discard any commits you make in this\n",
            "state without impacting any branches by switching back to a branch.\n",
            "\n",
            "If you want to create a new branch to retain commits you create, you may\n",
            "do so (now or later) by using -c with the switch command. Example:\n",
            "\n",
            "  git switch -c <new-branch-name>\n",
            "\n",
            "Or undo this operation with:\n",
            "\n",
            "  git switch -\n",
            "\n",
            "Turn off this advice by setting config variable advice.detachedHead to false\n",
            "\n",
            "HEAD is now at 91c8d0d Merge pull request #7231 from EllangoK/master\n",
            "Python 3.8.10 (default, Nov 14 2022, 12:59:47) \n",
            "[GCC 9.4.0]\n",
            "Commit hash: 91c8d0dcfc9a5d46aec47fd3eb34c633c104b5bb\n",
            "Installing gfpgan\n",
            "Installing clip\n",
            "Installing open_clip\n",
            "Installing xformers\n",
            "Cloning Stable Diffusion into repositories/stable-diffusion-stability-ai...\n",
            "Cloning Taming Transformers into repositories/taming-transformers...\n",
            "Cloning K-diffusion into repositories/k-diffusion...\n",
            "Cloning CodeFormer into repositories/CodeFormer...\n",
            "Cloning BLIP into repositories/BLIP...\n",
            "Installing requirements for CodeFormer\n",
            "Installing requirements for Web UI\n",
            "Launching Web UI with arguments: --share --disable-safe-unpickle --no-half-vae --xformers --enable-insecure-extension-access\n",
            "Calculating sha256 for /content/stable-diffusion-webui/models/Stable-diffusion/anythingv4.5.ckpt: e4b17ce185857a3a20d778efb5222f32dfb65b89f258b29014a5659d319cb4bd\n",
            "Loading weights [e4b17ce185] from /content/stable-diffusion-webui/models/Stable-diffusion/anythingv4.5.ckpt\n",
            "Creating model from config: /content/stable-diffusion-webui/configs/v1-inference.yaml\n",
            "LatentDiffusion: Running in eps-prediction mode\n",
            "DiffusionWrapper has 859.52 M params.\n",
            "Downloading (…)olve/main/vocab.json: 100% 961k/961k [00:01<00:00, 692kB/s]\n",
            "Downloading (…)olve/main/merges.txt: 100% 525k/525k [00:01<00:00, 452kB/s]\n",
            "Downloading (…)cial_tokens_map.json: 100% 389/389 [00:00<00:00, 143kB/s]\n",
            "Downloading (…)okenizer_config.json: 100% 905/905 [00:00<00:00, 335kB/s]\n",
            "Downloading (…)lve/main/config.json: 100% 4.52k/4.52k [00:00<00:00, 630kB/s]\n",
            "Loading VAE weights found near the checkpoint: /content/stable-diffusion-webui/models/Stable-diffusion/anythingv4.5.vae.pt\n",
            "Applying xformers cross attention optimization.\n",
            "Textual inversion embeddings loaded(0): \n",
            "Model loaded in 64.2s (calculate hash: 25.7s, load weights from disk: 9.4s, create model: 13.8s, apply weights to model: 2.0s, apply half(): 1.1s, load VAE: 11.4s, move model to device: 0.7s).\n",
            "Checkpoint anythingv4.5.ckpt [e4b17ce185] not found; loading fallback anythingv4.5.ckpt [e4b17ce185]\n",
            "Running on local URL:  http://127.0.0.1:7860\n",
            "Running on public URL: https://b43659b1-25a1-4847.gradio.live\n",
            "\n",
            "This share link expires in 72 hours. For free permanent hosting and GPU upgrades (NEW!), check out Spaces: https://huggingface.co/spaces\n"
          ]
        }
      ],
      "source": [
        "#@title <b><- Start AI Here!</b>\n",
        "\n",
        "google_drive_usage = True #@param {type:\"boolean\"}\n",
        "\n",
        "from google.colab import drive\n",
        "if google_drive_usage:\n",
        "  drive.mount('/content/drive/')\n",
        "else:\n",
        "  import os\n",
        "  if not os.path.exists(\"/content/drive\"):\n",
        "    os.mkdir(\"/content/drive\")\n",
        "  if not os.path.exists(\"/content/drive/MyDrive/\"):\n",
        "    os.mkdir(\"/content/drive/MyDrive/\")\n",
        "\n",
        "!git clone https://github.com/AUTOMATIC1111/stable-diffusion-webui\n",
        "!git clone https://github.com/yfszzx/stable-diffusion-webui-images-browser /content/stable-diffusion-webui/extensions/stable-diffusion-webui-images-browser\n",
        "!curl -Lo anythingv4.5.ckpt https://huggingface.co/andite/anything-v4.0/resolve/main/anything-v4.5-pruned.ckpt\n",
        "!curl -Lo anythingv4.5.vae.pt https://huggingface.co/andite/anything-v4.0/resolve/main/anything-v4.0.vae.pt\n",
        "!mv \"/content/anythingv4.5.ckpt\" \"/content/stable-diffusion-webui/models/Stable-diffusion\"\n",
        "!mv \"/content/anythingv4.5.vae.pt\" \"/content/stable-diffusion-webui/models/Stable-diffusion\"\n",
        "%cd /content/stable-diffusion-webui\n",
        "!git checkout 91c8d0d\n",
        "!COMMANDLINE_ARGS=\"--share --disable-safe-unpickle --no-half-vae --xformers --reinstall-xformers --enable-insecure-extension-access\" REQS_FILE=\"requirements.txt\" python launch.py"
      ]
    },
    {
      "cell_type": "code",
      "source": [
        "#@title <b><- Check if you have a GPU connected!</b>\n",
        "\n",
        "import tensorflow as tf\n",
        "\n",
        "Result = tf.test.gpu_device_name()\n",
        "\n",
        "if Result == '':\n",
        "  print(\"GPU not connected!\")\n",
        "else:\n",
        "  print(\"GPU connected!\")"
      ],
      "metadata": {
        "id": "xjkjaJ8omilg",
        "colab": {
          "base_uri": "https://localhost:8080/"
        },
        "outputId": "733fc64b-52b0-4da7-bbf6-b5804778d742"
      },
      "execution_count": null,
      "outputs": [
        {
          "output_type": "stream",
          "name": "stdout",
          "text": [
            "GPU connected!\n"
          ]
        }
      ]
    }
  ],
  "metadata": {
    "colab": {
      "provenance": [],
      "authorship_tag": "ABX9TyPR0k8sNhpJlatR8uLxbbmE",
      "include_colab_link": true
    },
    "kernelspec": {
      "display_name": "Python 3",
      "name": "python3"
    },
    "language_info": {
      "name": "python"
    },
    "accelerator": "GPU",
    "gpuClass": "standard"
  },
  "nbformat": 4,
  "nbformat_minor": 0
}
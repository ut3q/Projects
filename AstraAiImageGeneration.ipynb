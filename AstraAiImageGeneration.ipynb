{
  "cells": [
    {
      "cell_type": "markdown",
      "metadata": {
        "id": "view-in-github",
        "colab_type": "text"
      },
      "source": [
        "<a href=\"https://colab.research.google.com/github/ut3q/Projects/blob/main/AstraAiImageGeneration.ipynb\" target=\"_parent\"><img src=\"https://colab.research.google.com/assets/colab-badge.svg\" alt=\"Open In Colab\"/></a>"
      ]
    },
    {
      "cell_type": "code",
      "execution_count": null,
      "metadata": {
        "id": "TvfXOA0vhy6g",
        "colab": {
          "base_uri": "https://localhost:8080/"
        },
        "outputId": "7f8933c9-10fb-4c97-ffe4-27df167cd318"
      },
      "outputs": [
        {
          "output_type": "stream",
          "name": "stdout",
          "text": [
            "Drive already mounted at /content/drive/; to attempt to forcibly remount, call drive.mount(\"/content/drive/\", force_remount=True).\n",
            "fatal: destination path 'stable-diffusion-webui' already exists and is not an empty directory.\n",
            "fatal: destination path '/content/stable-diffusion-webui/extensions/stable-diffusion-webui-images-browser' already exists and is not an empty directory.\n",
            "  % Total    % Received % Xferd  Average Speed   Time    Time     Time  Current\n",
            "                                 Dload  Upload   Total   Spent    Left  Speed\n",
            "100  1137  100  1137    0     0   1231      0 --:--:-- --:--:-- --:--:--  1231\n",
            "100 7482M  100 7482M    0     0   130M      0  0:00:57  0:00:57 --:--:-- 94.3M\n",
            "Archive:  /content/HD-22.ckpt\n",
            "  inflating: /content/stable-diffusion-webui/models/Stable-diffusion/HD-22.vae.pt  \n",
            "  inflating: /content/stable-diffusion-webui/models/Stable-diffusion/HD-22.ckpt  \n",
            "  inflating: /content/stable-diffusion-webui/models/Stable-diffusion/readme.txt  \n",
            "  % Total    % Received % Xferd  Average Speed   Time    Time     Time  Current\n",
            "                                 Dload  Upload   Total   Spent    Left  Speed\n",
            "100  1115  100  1115    0     0   1233      0 --:--:-- --:--:-- --:--:--  1232\n",
            "100  784M  100  784M    0     0  15.1M      0  0:00:51  0:00:51 --:--:-- 16.8M\n",
            "/content/stable-diffusion-webui\n",
            "HEAD is now at 91c8d0d Merge pull request #7231 from EllangoK/master\n",
            "Looking in indexes: https://pypi.org/simple, https://us-python.pkg.dev/colab-wheels/public/simple/\n",
            "Requirement already satisfied: fastapi==0.90.1 in /usr/local/lib/python3.8/dist-packages (0.90.1)\n",
            "Requirement already satisfied: starlette<0.24.0,>=0.22.0 in /usr/local/lib/python3.8/dist-packages (from fastapi==0.90.1) (0.23.1)\n",
            "Requirement already satisfied: pydantic!=1.7,!=1.7.1,!=1.7.2,!=1.7.3,!=1.8,!=1.8.1,<2.0.0,>=1.6.2 in /usr/local/lib/python3.8/dist-packages (from fastapi==0.90.1) (1.10.4)\n",
            "Requirement already satisfied: typing-extensions>=4.2.0 in /usr/local/lib/python3.8/dist-packages (from pydantic!=1.7,!=1.7.1,!=1.7.2,!=1.7.3,!=1.8,!=1.8.1,<2.0.0,>=1.6.2->fastapi==0.90.1) (4.4.0)\n",
            "Requirement already satisfied: anyio<5,>=3.4.0 in /usr/local/lib/python3.8/dist-packages (from starlette<0.24.0,>=0.22.0->fastapi==0.90.1) (3.6.2)\n",
            "Requirement already satisfied: sniffio>=1.1 in /usr/local/lib/python3.8/dist-packages (from anyio<5,>=3.4.0->starlette<0.24.0,>=0.22.0->fastapi==0.90.1) (1.3.0)\n",
            "Requirement already satisfied: idna>=2.8 in /usr/local/lib/python3.8/dist-packages (from anyio<5,>=3.4.0->starlette<0.24.0,>=0.22.0->fastapi==0.90.1) (2.10)\n",
            "Python 3.8.10 (default, Nov 14 2022, 12:59:47) \n",
            "[GCC 9.4.0]\n",
            "Commit hash: 91c8d0dcfc9a5d46aec47fd3eb34c633c104b5bb\n"
          ]
        }
      ],
      "source": [
        "#@title <b><- Start AI Here!</b>\n",
        "\n",
        "google_drive_usage = True #@param {type:\"boolean\"}\n",
        "\n",
        "from google.colab import drive\n",
        "if google_drive_usage:\n",
        "  drive.mount('/content/drive/')\n",
        "else:\n",
        "  import os\n",
        "  if not os.path.exists(\"/content/drive\"):\n",
        "    os.mkdir(\"/content/drive\")\n",
        "  if not os.path.exists(\"/content/drive/MyDrive/\"):\n",
        "    os.mkdir(\"/content/drive/MyDrive/\")\n",
        "\n",
        "!git clone https://github.com/AUTOMATIC1111/stable-diffusion-webui\n",
        "!git clone https://github.com/yfszzx/stable-diffusion-webui-images-browser /content/stable-diffusion-webui/extensions/stable-diffusion-webui-images-browser\n",
        "# !curl -Lo anythingv4.5.ckpt https://huggingface.co/andite/anything-v4.0/resolve/main/anything-v4.5-pruned.ckpt\n",
        "# !curl -Lo anythingv4.5.vae.pt https://huggingface.co/andite/anything-v4.0/resolve/main/anything-v4.0.vae.pt\n",
        "!curl -Lo HD-22.ckpt https://huggingface.co/Deltaadams/HD-22/resolve/main/HD-22-Compressed.zip\n",
        "!unzip \"/content/HD-22.ckpt\" -d \"/content/stable-diffusion-webui/models/Stable-diffusion\"\n",
        "# !mv \"/content/anythingv4.5.ckpt\" \"/content/stable-diffusion-webui/models/Stable-diffusion\"\n",
        "# !mv \"/content/anythingv4.5.vae.pt\" \"/content/stable-diffusion-webui/models/Stable-diffusion\"\n",
        "\n",
        "%cd /content/stable-diffusion-webui\n",
        "!git checkout 91c8d0d\n",
        "!pip install --upgrade fastapi==0.90.1\n",
        "!COMMANDLINE_ARGS=\"--disable-safe-unpickle --no-half-vae --xformers --reinstall-xformers --enable-insecure-extension-access --share\" REQS_FILE=\"requirements.txt\" python launch.py"
      ]
    },
    {
      "cell_type": "markdown",
      "source": [
        "General Negative Prompt : lowres, ((bad anatomy)), ((bad hands)), text, missing finger, extra digits, fewer digits, blurry, ((mutated hands and fingers)), (poorly drawn face), ((mutation)), ((deformed face)), (ugly), ((bad proportions)), ((extra limbs)), extra face, (double head), (extra head), ((extra feet)), monster, logo, cropped, worst quality, low quality, normal quality, jpeg, humpbacked, long body, long neck, ((jpeg artifacts))"
      ],
      "metadata": {
        "id": "DxHNqKnQR83n"
      }
    },
    {
      "cell_type": "code",
      "source": [
        "#@title <b><- Check if you have a GPU connected!</b>\n",
        "\n",
        "import tensorflow as tf\n",
        "\n",
        "Result = tf.test.gpu_device_name()\n",
        "\n",
        "if Result == '':\n",
        "  print(\"GPU not connected!\")\n",
        "else:\n",
        "  print(\"GPU connected!\")"
      ],
      "metadata": {
        "id": "xjkjaJ8omilg",
        "colab": {
          "base_uri": "https://localhost:8080/"
        },
        "outputId": "ccfd8eac-162e-4cda-98ed-7a56354e65d7"
      },
      "execution_count": 1,
      "outputs": [
        {
          "output_type": "stream",
          "name": "stdout",
          "text": [
            "GPU connected!\n"
          ]
        }
      ]
    }
  ],
  "metadata": {
    "colab": {
      "provenance": [],
      "authorship_tag": "ABX9TyNSw30cBJGuEsX02LsXHAP8",
      "include_colab_link": true
    },
    "kernelspec": {
      "display_name": "Python 3",
      "name": "python3"
    },
    "language_info": {
      "name": "python"
    },
    "accelerator": "GPU",
    "gpuClass": "standard"
  },
  "nbformat": 4,
  "nbformat_minor": 0
}
{
  "nbformat": 4,
  "nbformat_minor": 0,
  "metadata": {
    "colab": {
      "provenance": [],
      "authorship_tag": "ABX9TyPFOktbV7qQSG1eRQR+Wzcm",
      "include_colab_link": true
    },
    "kernelspec": {
      "name": "python3",
      "display_name": "Python 3"
    },
    "language_info": {
      "name": "python"
    }
  },
  "cells": [
    {
      "cell_type": "markdown",
      "metadata": {
        "id": "view-in-github",
        "colab_type": "text"
      },
      "source": [
        "<a href=\"https://colab.research.google.com/github/ut3q/Projects/blob/main/Webpage_View_Bot.ipynb\" target=\"_parent\"><img src=\"https://colab.research.google.com/assets/colab-badge.svg\" alt=\"Open In Colab\"/></a>"
      ]
    },
    {
      "cell_type": "code",
      "execution_count": null,
      "metadata": {
        "id": "PlZ4-xkR96-L"
      },
      "outputs": [],
      "source": [
        "%reset -f\n",
        "\n",
        "import time\n",
        "import requests\n",
        "\n",
        "#@markdown ### **If it fails grab your headers from curl converter, simply follow the tutorial there! ->&nbsp;&nbsp;&nbsp;[Curl Converter!](https://curlconverter.com/)** \n",
        "\n",
        "#@title # **Initialize Bot** 🚩\n",
        "time_To_Wait = 1#@param{type:\"number\"}\n",
        "#How long it will wait before loading the webpage in seconds!\n",
        "times_To_Load = 5000000#@param{type:\"number\"}\n",
        "#How many times it will load the page, set to 0 if you want it to load indefinitely!\n",
        "ignore_Wait_Time = True#@param{type:\"boolean\"}\n",
        "#If set to \"True\" it will ignore waittimes and try to load the webpage as fast as possible!\n",
        "website = \"https://s11.flagcounter.com/mini/Vp1i/bg_1F1F1F/txt_FFFFFF/border_FFFFFF/flags_0/\"#@param{type:\"string\"}\n",
        "count = 0\n",
        "while (count < times_To_Load):\n",
        "    count = count + 1\n",
        "    print('Loaded webpage, current index is',count,'!')\n",
        "\n",
        "    if (ignore_Wait_Time == False):\n",
        "      time.sleep(time_To_Wait)\n",
        "\n",
        "    headers = {\n",
        "        'Accept': 'text/html,application/xhtml+xml,application/xml;q=0.9,image/avif,image/webp,image/apng,*/*;q=0.8',\n",
        "        'Accept-Language': 'en-US,en;q=0.6',\n",
        "        'Cache-Control': 'max-age=0',\n",
        "        'Connection': 'keep-alive',\n",
        "        'Sec-Fetch-Dest': 'document',\n",
        "        'Sec-Fetch-Mode': 'navigate',\n",
        "        'Sec-Fetch-Site': 'none',\n",
        "        'Sec-Fetch-User': '?1',\n",
        "        'Sec-GPC': '1',\n",
        "        'Upgrade-Insecure-Requests': '1',\n",
        "        'User-Agent': 'Mozilla/5.0 (Windows NT 10.0; Win64; x64) AppleWebKit/537.36 (KHTML, like Gecko) Chrome/113.0.0.0 Safari/537.36',\n",
        "        'sec-ch-ua': '\"Brave\";v=\"113\", \"Chromium\";v=\"113\", \"Not-A.Brand\";v=\"24\"',\n",
        "        'sec-ch-ua-mobile': '?0',\n",
        "        'sec-ch-ua-platform': '\"Windows\"',\n",
        "    }\n",
        "\n",
        "    response = requests.get(website, headers=headers)"
      ]
    }
  ]
}